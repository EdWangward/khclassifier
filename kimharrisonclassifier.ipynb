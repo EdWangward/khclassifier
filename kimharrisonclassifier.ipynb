{
  "nbformat": 4,
  "nbformat_minor": 0,
  "metadata": {
    "colab": {
      "name": "kimharrisonclassifier.ipynb",
      "private_outputs": true,
      "provenance": [],
      "authorship_tag": "ABX9TyN96C29y+Xx3ldNT7r4tb1X",
      "include_colab_link": true
    },
    "kernelspec": {
      "name": "python3",
      "display_name": "Python 3"
    }
  },
  "cells": [
    {
      "cell_type": "markdown",
      "metadata": {
        "id": "view-in-github",
        "colab_type": "text"
      },
      "source": [
        "<a href=\"https://colab.research.google.com/github/EdWangward/khclassifier/blob/main/kimharrisonclassifier.ipynb\" target=\"_parent\"><img src=\"https://colab.research.google.com/assets/colab-badge.svg\" alt=\"Open In Colab\"/></a>"
      ]
    },
    {
      "cell_type": "code",
      "metadata": {
        "id": "qT8j8_sB4PXd"
      },
      "source": [
        "from os import listdir\n",
        "from numpy import asarray\n",
        "from numpy import save\n",
        "from keras.preprocessing.image import load_img\n",
        "from keras.preprocessing.image import img_to_array\n",
        "\n",
        "folder = '/content/sample_data/train/'\n",
        "photos, labels = list(), list()\n",
        "\n",
        "for file in listdir(folder):\n",
        "  output = 0\n",
        "  if file.startswith('Kim'):\n",
        "    output = 1\n",
        "  photo = load_img(folder + file, target_size=(80,80))\n",
        "  photo = img_to_array(photo)\n",
        "  photos.append(photo)\n",
        "  labels.append(output)\n",
        "photos = asarray(photos)\n",
        "labels = asarray(labels)\n",
        "\n",
        "save('dogcatsp.npy',photos)\n",
        "save('dogcatsl.npy', labels)\n",
        "print(labels)"
      ],
      "execution_count": null,
      "outputs": []
    },
    {
      "cell_type": "code",
      "metadata": {
        "id": "DD8npE7iNclY"
      },
      "source": [
        "from random import seed\n",
        "from random import random\n",
        "from shutil import copyfile\n",
        "from os import listdir\n",
        "from os import makedirs\n",
        "dataset_home = 'dataset_dogs_vs_cats/'\n",
        "subdirs = ['train/', 'test/']\n",
        "for subdir in subdirs:\n",
        "  labeldirs = ['Harrison/', 'Kim/']\n",
        "  for labeldir in labeldirs:\n",
        "    newdir = dataset_home + subdir + labeldir\n",
        "    makedirs(newdir, exist_ok=True)"
      ],
      "execution_count": null,
      "outputs": []
    },
    {
      "cell_type": "code",
      "metadata": {
        "id": "k7YdGca2PttH"
      },
      "source": [
        "seed(1)\n",
        "val_ratio = 0.25\n",
        "\n",
        "src_directory = '/content/sample_data/train/'\n",
        "for file in listdir(src_directory):\n",
        "  src = src_directory + '/' + file\n",
        "  dst_dir = 'train/'\n",
        "  if random()< val_ratio:\n",
        "    dst_dir = 'test/'\n",
        "  if file.startswith('Kim'):\n",
        "    dst = dataset_home + dst_dir + 'Kim/' + file\n",
        "    copyfile(src, dst)\n",
        "  elif file.startswith('Harrison'):\n",
        "    dst = dataset_home + dst_dir +'Harrison/'+ file\n",
        "    copyfile(src, dst)\n"
      ],
      "execution_count": null,
      "outputs": []
    },
    {
      "cell_type": "code",
      "metadata": {
        "id": "YrcpouLEUMAY"
      },
      "source": [
        "# baseline model with data augmentation for the dogs vs cats dataset\n",
        "import sys\n",
        "from matplotlib import pyplot\n",
        "from keras.utils import to_categorical\n",
        "from keras.applications.vgg16 import VGG16\n",
        "from keras.models import Model\n",
        "from keras.layers import Dense\n",
        "from keras.layers import Flatten\n",
        "from keras.optimizers import SGD\n",
        "from keras.preprocessing.image import ImageDataGenerator\n",
        " \n",
        "# define cnn model\n",
        "def define_model():\n",
        "\tmodel = Sequential()\n",
        "\tmodel.add(Conv2D(32, (3, 3), activation='relu', kernel_initializer='he_uniform', padding='same', input_shape=(80, 80, 3)))\n",
        "\tmodel.add(MaxPooling2D((2, 2)))\n",
        "\tmodel.add(Dropout(0.2))\n",
        "\tmodel.add(Conv2D(64, (3, 3), activation='relu', kernel_initializer='he_uniform', padding='same'))\n",
        "\tmodel.add(MaxPooling2D((2, 2)))\n",
        "\tmodel.add(Dropout(0.2))\n",
        "\tmodel.add(Conv2D(128, (3, 3), activation='relu', kernel_initializer='he_uniform', padding='same'))\n",
        "\tmodel.add(MaxPooling2D((2, 2)))\n",
        "\tmodel.add(Dropout(0.2))\n",
        "\tmodel.add(Flatten())\n",
        "\tmodel.add(Dense(128, activation='relu', kernel_initializer='he_uniform'))\n",
        "\tmodel.add(Dropout(0.5))\n",
        "\tmodel.add(Dense(1, activation='sigmoid'))\n",
        "\t# compile model\n",
        "\topt = SGD(lr=0.001, momentum=0.9)\n",
        "\tmodel.compile(optimizer=opt, loss='binary_crossentropy', metrics=['accuracy'])\n",
        "\treturn model\n",
        "\n",
        "def run_test_harness():\n",
        "\t# define model\n",
        "\tmodel = define_model()\n",
        "\t# create data generator\n",
        "\tdatagen = ImageDataGenerator(rescale=1.0/160)\n",
        "\t# specify imagenet mean values for centering\n",
        "\t# prepare iterator\n",
        "\ttrain_it = datagen.flow_from_directory('/content/dataset_dogs_vs_cats/train/',\n",
        "\t\tclass_mode='binary', batch_size=64, target_size=(80, 80))\n",
        "\ttest_it = datagen.flow_from_directory('/content/dataset_dogs_vs_cats/test/',\n",
        "\t\tclass_mode='binary', batch_size=64, target_size=(80, 80))\n",
        "\t# fit model\n",
        "\thistory = model.fit_generator(train_it, steps_per_epoch=len(train_it),\n",
        "\t\tvalidation_data=test_it, validation_steps=len(test_it), epochs=20, verbose=1)\n",
        "\t# evaluate model\n",
        "\t_, acc = model.evaluate_generator(test_it, steps=len(test_it), verbose=0)\n",
        "\tprint('> %.3f' % (acc * 100.0))\n",
        "\t# learning curves\n",
        "\tmodel.save('final_model.h5')\n",
        " \n",
        "# entry point, run the test harness\n",
        "run_test_harness()\n"
      ],
      "execution_count": null,
      "outputs": []
    },
    {
      "cell_type": "code",
      "metadata": {
        "id": "dCt-CR0fI8Ho"
      },
      "source": [
        "# make a prediction for a new image.\n",
        "from keras.preprocessing.image import load_img\n",
        "from keras.preprocessing.image import img_to_array\n",
        "from keras.models import load_model\n",
        "import PIL\n",
        "\n",
        "\n",
        "# load and prepare the image\n",
        "def load_image(filename):\n",
        "\t# load the image\n",
        "\timg = load_img(filename, target_size=(80, 80))\n",
        "\t# convert to array\n",
        "\timg = img_to_array(img)\n",
        "\t# reshape into a single sample with 3 channels\n",
        "\timg = img.reshape(1, 80, 80, 3)\n",
        "\t# center pixel data\n",
        "\timg = img.astype('float32')\n",
        "\timg = img - [40, 40, 40]\n",
        "\treturn img\n",
        " \n",
        "# load an image and predict the class\n",
        "\n",
        "def run_example():\n",
        "  img = load_image('/content/sample_img21.png')\n",
        "  model = load_model('final_model.h5')\n",
        "  result = model.predict(img)\n",
        "  if result[0] == 1:\n",
        "    print(\"Kim\")\n",
        "  else:\n",
        "    print(\"Harrison\")\n",
        "\n",
        "run_example()"
      ],
      "execution_count": null,
      "outputs": []
    }
  ]
}